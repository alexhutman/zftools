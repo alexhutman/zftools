{
 "cells": [
  {
   "cell_type": "code",
   "execution_count": null,
   "metadata": {},
   "outputs": [],
   "source": [
    "#Found from https://raw.githubusercontent.com/jephianlin/mr_JG/master/zero_forcing_wavefront.pyx\n",
    "\n",
    "from zftools.test.verifiability.wavefront import zero_forcing_set_wavefront"
   ]
  },
  {
   "cell_type": "code",
   "execution_count": null,
   "metadata": {},
   "outputs": [],
   "source": [
    "# Set up a test graph H and display it if possible\n",
    "#H = graphs.MycielskiGraph(6)\n",
    "H = graphs.RobertsonGraph()\n",
    "#H = graphs.CoxeterGraph()\n",
    "#H = graphs.ClebschGraph()\n",
    "#H = graphs.BrinkmannGraph()\n",
    "#H = graphs.HeawoodGraph()\n",
    "#H = graphs.CirculantGraph(12,[2,3,4,6,-2,-3,-4])\n",
    "#H = graphs.HoffmanSingletonGraph() # DNF\n",
    "#H = graphs.CoxeterGraph().line_graph()\n",
    "#H = graphs.PaleyGraph(17).line_graph()\n",
    "#H = graphs.BrinkmannGraph().line_graph()\n",
    "\n",
    "H.relabel()\n",
    "H.show()\n",
    "\n",
    "print(\"This graph has\", H.num_verts(), \"vertices\")\n",
    "print(\"Longest shortest path possible:\", H.diameter())"
   ]
  },
  {
   "cell_type": "code",
   "execution_count": null,
   "metadata": {},
   "outputs": [],
   "source": [
    "%time output = zero_forcing_set_wavefront(H)\n",
    "\n",
    "print(\"Zero forcing number:\", output[0])\n",
    "print(\"Smallest zero forcing set:\", output[1])\n",
    "print(\"Number of closures considered:\", output[2])"
   ]
  }
 ],
 "metadata": {
  "kernelspec": {
   "display_name": "SageMath 9.8.beta2",
   "language": "sage",
   "name": "sagemath"
  },
  "language_info": {
   "codemirror_mode": {
    "name": "ipython",
    "version": 3
   },
   "file_extension": ".py",
   "mimetype": "text/x-python",
   "name": "python",
   "nbconvert_exporter": "python",
   "pygments_lexer": "ipython3",
   "version": "3.10.5"
  }
 },
 "nbformat": 4,
 "nbformat_minor": 1
}
